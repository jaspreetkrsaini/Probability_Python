{
 "cells": [
  {
   "cell_type": "code",
   "execution_count": 1,
   "id": "7eb04797",
   "metadata": {},
   "outputs": [],
   "source": [
    "import pandas as pd\n",
    "import numpy as np\n",
    "import matplotlib.pyplot as plt\n",
    "from sklearn.cluster import KMeans\n",
    "from scipy.stats import norm\n",
    "import matplotlib.pyplot as plt\n",
    "import os \n",
    "os.chdir(\"C:\\\\Users\\\\jaspr\\\\OneDrive\\\\Documents\\\\Conestoga\\\\Predictive Analytics\\\\Semester II\\\\STAT8051\\\\Assignment 1\")\n"
   ]
  },
  {
   "cell_type": "markdown",
   "id": "e4f8a5de",
   "metadata": {},
   "source": [
    "# Question 2"
   ]
  },
  {
   "cell_type": "code",
   "execution_count": 2,
   "id": "abefa775",
   "metadata": {},
   "outputs": [
    {
     "name": "stdout",
     "output_type": "stream",
     "text": [
      "The probability of having < 5 million visitors in a single day is 0.7290\n",
      "The probability of having visitors greater than or equal to 3 million in a single day is 0.9663\n",
      "The probability of having visitors between 3 million and 4 million in a single day is 0.2373\n",
      "At 85th percentile, the value is 5.35 million. Smiley's People will require additional server capacity if traffic is more 5.35 million visitors.\n"
     ]
    }
   ],
   "source": [
    "# Question 2\n",
    "mean = 4.5\n",
    "SD = 0.82\n",
    "\n",
    "# 1. What is the probability that the web site has fewer than 5 million visitors in asingle day?\n",
    "prob_lt_5million = norm.cdf(5, mean, SD)\n",
    "print(f\"The probability of having < 5 million visitors in a single day is {prob_lt_5million :.4f}\")\n",
    "\n",
    "# 2.What is the probability that the web site has 3 million or more visitors in a single day?\n",
    "prob_ge_3million = 1-norm.cdf(3, mean, SD)\n",
    "print(f\"The probability of having visitors greater than or equal to 3 million in a single day is {prob_ge_3million :.4f}\")\n",
    "\n",
    "# 3. What is the probability that the web site has between 3 million and 4 million visitors in a single day?\n",
    "prob_btw_3million_4million = norm.cdf(4, mean, SD)- norm.cdf(3, mean, SD)\n",
    "print(f\"The probability of having visitors between 3 million and 4 million in a single day is {prob_btw_3million_4million :.4f}\")\n",
    "\n",
    "# 4. Assume that 85% of the time, the Smiley’s People web servers can handle the daily web traffic volume without purchasing additional server capacity. What is the amount of web traffic that will require Smiley’s People to purchase additional server capacity?\n",
    "traffic_amount = norm.ppf(0.85,mean, SD)\n",
    "print(f\"At 85th percentile, the value is {traffic_amount :.2f} million. Smiley's People will require additional server capacity if traffic is more {traffic_amount :.2f} million visitors.\")\n"
   ]
  },
  {
   "cell_type": "markdown",
   "id": "ec862483",
   "metadata": {},
   "source": [
    "# Quesion 3 - Big blue Kmeans clustering"
   ]
  },
  {
   "cell_type": "code",
   "execution_count": 3,
   "id": "38dbbc82",
   "metadata": {},
   "outputs": [],
   "source": [
    "# Load your data\n",
    "df = pd.read_excel(\"BigBlue.xlsx\")"
   ]
  },
  {
   "cell_type": "code",
   "execution_count": 4,
   "id": "208803d6",
   "metadata": {},
   "outputs": [
    {
     "data": {
      "text/html": [
       "<div>\n",
       "<style scoped>\n",
       "    .dataframe tbody tr th:only-of-type {\n",
       "        vertical-align: middle;\n",
       "    }\n",
       "\n",
       "    .dataframe tbody tr th {\n",
       "        vertical-align: top;\n",
       "    }\n",
       "\n",
       "    .dataframe thead th {\n",
       "        text-align: right;\n",
       "    }\n",
       "</style>\n",
       "<table border=\"1\" class=\"dataframe\">\n",
       "  <thead>\n",
       "    <tr style=\"text-align: right;\">\n",
       "      <th></th>\n",
       "      <th>EmployeeID</th>\n",
       "      <th>UsageRate</th>\n",
       "      <th>Recognition</th>\n",
       "      <th>Leader</th>\n",
       "    </tr>\n",
       "  </thead>\n",
       "  <tbody>\n",
       "    <tr>\n",
       "      <th>0</th>\n",
       "      <td>1</td>\n",
       "      <td>0.000000</td>\n",
       "      <td>0</td>\n",
       "      <td>0</td>\n",
       "    </tr>\n",
       "    <tr>\n",
       "      <th>1</th>\n",
       "      <td>2</td>\n",
       "      <td>0.632785</td>\n",
       "      <td>0</td>\n",
       "      <td>0</td>\n",
       "    </tr>\n",
       "    <tr>\n",
       "      <th>2</th>\n",
       "      <td>3</td>\n",
       "      <td>0.003499</td>\n",
       "      <td>0</td>\n",
       "      <td>0</td>\n",
       "    </tr>\n",
       "    <tr>\n",
       "      <th>3</th>\n",
       "      <td>4</td>\n",
       "      <td>0.000234</td>\n",
       "      <td>0</td>\n",
       "      <td>0</td>\n",
       "    </tr>\n",
       "    <tr>\n",
       "      <th>4</th>\n",
       "      <td>5</td>\n",
       "      <td>0.000438</td>\n",
       "      <td>0</td>\n",
       "      <td>0</td>\n",
       "    </tr>\n",
       "  </tbody>\n",
       "</table>\n",
       "</div>"
      ],
      "text/plain": [
       "   EmployeeID  UsageRate  Recognition  Leader\n",
       "0           1   0.000000            0       0\n",
       "1           2   0.632785            0       0\n",
       "2           3   0.003499            0       0\n",
       "3           4   0.000234            0       0\n",
       "4           5   0.000438            0       0"
      ]
     },
     "execution_count": 4,
     "metadata": {},
     "output_type": "execute_result"
    }
   ],
   "source": [
    "df.head()"
   ]
  },
  {
   "cell_type": "code",
   "execution_count": 5,
   "id": "522da8ef",
   "metadata": {},
   "outputs": [],
   "source": [
    "# Normalize data\n",
    "from sklearn.preprocessing import StandardScaler\n",
    "scaler = StandardScaler()\n",
    "X_std = scaler.fit_transform(df)"
   ]
  },
  {
   "cell_type": "code",
   "execution_count": 6,
   "id": "b1f3c37e",
   "metadata": {},
   "outputs": [
    {
     "data": {
      "text/html": [
       "<div>\n",
       "<style scoped>\n",
       "    .dataframe tbody tr th:only-of-type {\n",
       "        vertical-align: middle;\n",
       "    }\n",
       "\n",
       "    .dataframe tbody tr th {\n",
       "        vertical-align: top;\n",
       "    }\n",
       "\n",
       "    .dataframe thead th {\n",
       "        text-align: right;\n",
       "    }\n",
       "</style>\n",
       "<table border=\"1\" class=\"dataframe\">\n",
       "  <thead>\n",
       "    <tr style=\"text-align: right;\">\n",
       "      <th></th>\n",
       "      <th>EmployeeID</th>\n",
       "      <th>UsageRate</th>\n",
       "      <th>Recognition</th>\n",
       "      <th>Leader</th>\n",
       "    </tr>\n",
       "  </thead>\n",
       "  <tbody>\n",
       "    <tr>\n",
       "      <th>0</th>\n",
       "      <td>-1.715938</td>\n",
       "      <td>-0.987798</td>\n",
       "      <td>-0.434937</td>\n",
       "      <td>-0.186591</td>\n",
       "    </tr>\n",
       "    <tr>\n",
       "      <th>1</th>\n",
       "      <td>-1.683562</td>\n",
       "      <td>1.020380</td>\n",
       "      <td>-0.434937</td>\n",
       "      <td>-0.186591</td>\n",
       "    </tr>\n",
       "    <tr>\n",
       "      <th>2</th>\n",
       "      <td>-1.651186</td>\n",
       "      <td>-0.976692</td>\n",
       "      <td>-0.434937</td>\n",
       "      <td>-0.186591</td>\n",
       "    </tr>\n",
       "    <tr>\n",
       "      <th>3</th>\n",
       "      <td>-1.618810</td>\n",
       "      <td>-0.987056</td>\n",
       "      <td>-0.434937</td>\n",
       "      <td>-0.186591</td>\n",
       "    </tr>\n",
       "    <tr>\n",
       "      <th>4</th>\n",
       "      <td>-1.586434</td>\n",
       "      <td>-0.986409</td>\n",
       "      <td>-0.434937</td>\n",
       "      <td>-0.186591</td>\n",
       "    </tr>\n",
       "  </tbody>\n",
       "</table>\n",
       "</div>"
      ],
      "text/plain": [
       "   EmployeeID  UsageRate  Recognition    Leader\n",
       "0   -1.715938  -0.987798    -0.434937 -0.186591\n",
       "1   -1.683562   1.020380    -0.434937 -0.186591\n",
       "2   -1.651186  -0.976692    -0.434937 -0.186591\n",
       "3   -1.618810  -0.987056    -0.434937 -0.186591\n",
       "4   -1.586434  -0.986409    -0.434937 -0.186591"
      ]
     },
     "execution_count": 6,
     "metadata": {},
     "output_type": "execute_result"
    }
   ],
   "source": [
    "df1 = pd.DataFrame(X_std)\n",
    "df1.columns = ['EmployeeID','UsageRate', 'Recognition', 'Leader']\n",
    "df1.head()"
   ]
  },
  {
   "cell_type": "code",
   "execution_count": 7,
   "id": "de9f07f3",
   "metadata": {},
   "outputs": [],
   "source": [
    "df1.to_excel('normalized_data.xlsx')"
   ]
  },
  {
   "cell_type": "code",
   "execution_count": 8,
   "id": "5b51383b",
   "metadata": {},
   "outputs": [
    {
     "name": "stderr",
     "output_type": "stream",
     "text": [
      "C:\\Users\\jaspr\\anaconda3\\lib\\site-packages\\sklearn\\cluster\\_kmeans.py:1036: UserWarning: KMeans is known to have a memory leak on Windows with MKL, when there are less chunks than available threads. You can avoid it by setting the environment variable OMP_NUM_THREADS=1.\n",
      "  warnings.warn(\n"
     ]
    },
    {
     "data": {
      "image/png": "[encoded data removed]",
      "text/plain": [
       "<Figure size 640x480 with 1 Axes>"
      ]
     },
     "metadata": {},
     "output_type": "display_data"
    }
   ],
   "source": [
    "# Checking optimal number of clusters by elbow method\n",
    "wcss = []\n",
    "for i in range(1, 11):\n",
    "    kmeans = KMeans(n_clusters=i, init='k-means++', max_iter=300, n_init=10, random_state=0)\n",
    "    kmeans.fit(X_std)\n",
    "    wcss.append(kmeans.inertia_)\n",
    "plt.plot(range(1, 11), wcss,'bx-')\n",
    "plt.title('Elbow Method')\n",
    "plt.xlabel('Number of clusters')\n",
    "plt.ylabel('WCSS')\n",
    "plt.show()\n"
   ]
  },
  {
   "cell_type": "code",
   "execution_count": 9,
   "id": "627dfec0",
   "metadata": {},
   "outputs": [],
   "source": [
    "import numpy as np\n",
    "import pandas as pd\n",
    "import matplotlib.pyplot as plt\n",
    "from sklearn.cluster import KMeans\n",
    "from sklearn.datasets import make_blobs"
   ]
  },
  {
   "cell_type": "code",
   "execution_count": 10,
   "id": "ac3f882e",
   "metadata": {},
   "outputs": [],
   "source": [
    "#df2 = df1[['UsageRate', 'Recognition', 'Leader']]\n",
    "# df2=df1"
   ]
  },
  {
   "cell_type": "code",
   "execution_count": 11,
   "id": "7935c17e",
   "metadata": {},
   "outputs": [
    {
     "data": {
      "text/plain": [
       "array([0, 1, 2, 3])"
      ]
     },
     "execution_count": 11,
     "metadata": {},
     "output_type": "execute_result"
    }
   ],
   "source": [
    "#apply kmeans on the actual data with k=4\n",
    "kmeans_app = KMeans(n_clusters= 4,init ='k-means++', max_iter=300, n_init=10,random_state=0 )\n",
    "     \n",
    "clust = kmeans_app.fit_predict(df)\n",
    "df['cluster']=clust\n",
    "#Getting unique cluster value\n",
    "u_clust = np.unique(clust)\n",
    "u_clust"
   ]
  },
  {
   "cell_type": "code",
   "execution_count": 12,
   "id": "fe09987a",
   "metadata": {},
   "outputs": [
    {
     "data": {
      "text/html": [
       "<div>\n",
       "<style scoped>\n",
       "    .dataframe tbody tr th:only-of-type {\n",
       "        vertical-align: middle;\n",
       "    }\n",
       "\n",
       "    .dataframe tbody tr th {\n",
       "        vertical-align: top;\n",
       "    }\n",
       "\n",
       "    .dataframe thead th {\n",
       "        text-align: right;\n",
       "    }\n",
       "</style>\n",
       "<table border=\"1\" class=\"dataframe\">\n",
       "  <thead>\n",
       "    <tr style=\"text-align: right;\">\n",
       "      <th></th>\n",
       "      <th>EmployeeID</th>\n",
       "      <th>UsageRate</th>\n",
       "      <th>Recognition</th>\n",
       "      <th>Leader</th>\n",
       "      <th>cluster</th>\n",
       "    </tr>\n",
       "  </thead>\n",
       "  <tbody>\n",
       "    <tr>\n",
       "      <th>0</th>\n",
       "      <td>1</td>\n",
       "      <td>0.000000</td>\n",
       "      <td>0</td>\n",
       "      <td>0</td>\n",
       "      <td>0</td>\n",
       "    </tr>\n",
       "    <tr>\n",
       "      <th>1</th>\n",
       "      <td>2</td>\n",
       "      <td>0.632785</td>\n",
       "      <td>0</td>\n",
       "      <td>0</td>\n",
       "      <td>0</td>\n",
       "    </tr>\n",
       "    <tr>\n",
       "      <th>2</th>\n",
       "      <td>3</td>\n",
       "      <td>0.003499</td>\n",
       "      <td>0</td>\n",
       "      <td>0</td>\n",
       "      <td>0</td>\n",
       "    </tr>\n",
       "    <tr>\n",
       "      <th>3</th>\n",
       "      <td>4</td>\n",
       "      <td>0.000234</td>\n",
       "      <td>0</td>\n",
       "      <td>0</td>\n",
       "      <td>0</td>\n",
       "    </tr>\n",
       "    <tr>\n",
       "      <th>4</th>\n",
       "      <td>5</td>\n",
       "      <td>0.000438</td>\n",
       "      <td>0</td>\n",
       "      <td>0</td>\n",
       "      <td>0</td>\n",
       "    </tr>\n",
       "  </tbody>\n",
       "</table>\n",
       "</div>"
      ],
      "text/plain": [
       "   EmployeeID  UsageRate  Recognition  Leader  cluster\n",
       "0           1   0.000000            0       0        0\n",
       "1           2   0.632785            0       0        0\n",
       "2           3   0.003499            0       0        0\n",
       "3           4   0.000234            0       0        0\n",
       "4           5   0.000438            0       0        0"
      ]
     },
     "execution_count": 12,
     "metadata": {},
     "output_type": "execute_result"
    }
   ],
   "source": [
    "df.head()"
   ]
  },
  {
   "cell_type": "code",
   "execution_count": 13,
   "id": "469d7002",
   "metadata": {},
   "outputs": [
    {
     "data": {
      "text/html": [
       "<div>\n",
       "<style scoped>\n",
       "    .dataframe tbody tr th:only-of-type {\n",
       "        vertical-align: middle;\n",
       "    }\n",
       "\n",
       "    .dataframe tbody tr th {\n",
       "        vertical-align: top;\n",
       "    }\n",
       "\n",
       "    .dataframe thead tr th {\n",
       "        text-align: left;\n",
       "    }\n",
       "\n",
       "    .dataframe thead tr:last-of-type th {\n",
       "        text-align: right;\n",
       "    }\n",
       "</style>\n",
       "<table border=\"1\" class=\"dataframe\">\n",
       "  <thead>\n",
       "    <tr>\n",
       "      <th></th>\n",
       "      <th colspan=\"4\" halign=\"left\">UsageRate</th>\n",
       "      <th colspan=\"4\" halign=\"left\">Recognition</th>\n",
       "      <th colspan=\"4\" halign=\"left\">Leader</th>\n",
       "    </tr>\n",
       "    <tr>\n",
       "      <th></th>\n",
       "      <th>mean</th>\n",
       "      <th>max</th>\n",
       "      <th>min</th>\n",
       "      <th>count</th>\n",
       "      <th>mean</th>\n",
       "      <th>max</th>\n",
       "      <th>min</th>\n",
       "      <th>count</th>\n",
       "      <th>mean</th>\n",
       "      <th>max</th>\n",
       "      <th>min</th>\n",
       "      <th>count</th>\n",
       "    </tr>\n",
       "    <tr>\n",
       "      <th>cluster</th>\n",
       "      <th></th>\n",
       "      <th></th>\n",
       "      <th></th>\n",
       "      <th></th>\n",
       "      <th></th>\n",
       "      <th></th>\n",
       "      <th></th>\n",
       "      <th></th>\n",
       "      <th></th>\n",
       "      <th></th>\n",
       "      <th></th>\n",
       "      <th></th>\n",
       "    </tr>\n",
       "  </thead>\n",
       "  <tbody>\n",
       "    <tr>\n",
       "      <th>0</th>\n",
       "      <td>0.221641</td>\n",
       "      <td>0.939579</td>\n",
       "      <td>0.000000</td>\n",
       "      <td>27</td>\n",
       "      <td>0.111111</td>\n",
       "      <td>1</td>\n",
       "      <td>0</td>\n",
       "      <td>27</td>\n",
       "      <td>0.000000</td>\n",
       "      <td>0</td>\n",
       "      <td>0</td>\n",
       "      <td>27</td>\n",
       "    </tr>\n",
       "    <tr>\n",
       "      <th>1</th>\n",
       "      <td>0.397284</td>\n",
       "      <td>0.911853</td>\n",
       "      <td>0.002379</td>\n",
       "      <td>27</td>\n",
       "      <td>0.629630</td>\n",
       "      <td>4</td>\n",
       "      <td>0</td>\n",
       "      <td>27</td>\n",
       "      <td>0.037037</td>\n",
       "      <td>1</td>\n",
       "      <td>0</td>\n",
       "      <td>27</td>\n",
       "    </tr>\n",
       "    <tr>\n",
       "      <th>2</th>\n",
       "      <td>0.207219</td>\n",
       "      <td>0.924250</td>\n",
       "      <td>0.000273</td>\n",
       "      <td>27</td>\n",
       "      <td>0.148148</td>\n",
       "      <td>2</td>\n",
       "      <td>0</td>\n",
       "      <td>27</td>\n",
       "      <td>0.000000</td>\n",
       "      <td>0</td>\n",
       "      <td>0</td>\n",
       "      <td>27</td>\n",
       "    </tr>\n",
       "    <tr>\n",
       "      <th>3</th>\n",
       "      <td>0.423034</td>\n",
       "      <td>0.993534</td>\n",
       "      <td>0.005977</td>\n",
       "      <td>26</td>\n",
       "      <td>0.615385</td>\n",
       "      <td>3</td>\n",
       "      <td>0</td>\n",
       "      <td>26</td>\n",
       "      <td>0.192308</td>\n",
       "      <td>2</td>\n",
       "      <td>0</td>\n",
       "      <td>26</td>\n",
       "    </tr>\n",
       "  </tbody>\n",
       "</table>\n",
       "</div>"
      ],
      "text/plain": [
       "        UsageRate                           Recognition                \\\n",
       "             mean       max       min count        mean max min count   \n",
       "cluster                                                                 \n",
       "0        0.221641  0.939579  0.000000    27    0.111111   1   0    27   \n",
       "1        0.397284  0.911853  0.002379    27    0.629630   4   0    27   \n",
       "2        0.207219  0.924250  0.000273    27    0.148148   2   0    27   \n",
       "3        0.423034  0.993534  0.005977    26    0.615385   3   0    26   \n",
       "\n",
       "           Leader                \n",
       "             mean max min count  \n",
       "cluster                          \n",
       "0        0.000000   0   0    27  \n",
       "1        0.037037   1   0    27  \n",
       "2        0.000000   0   0    27  \n",
       "3        0.192308   2   0    26  "
      ]
     },
     "execution_count": 13,
     "metadata": {},
     "output_type": "execute_result"
    }
   ],
   "source": [
    "# calculate each cluster summary\n",
    "cluster_summary = pd.DataFrame(df.groupby('cluster').agg({'UsageRate': ['mean', 'max', 'min','count'],\n",
    "                                           'Recognition': ['mean', 'max', 'min','count'],\n",
    "                                           'Leader': ['mean', 'max', 'min','count']\n",
    "                                          }))\n",
    "\n",
    "# Display the cluster summary\n",
    "cluster_summary"
   ]
  },
  {
   "cell_type": "code",
   "execution_count": 14,
   "id": "69291e81",
   "metadata": {},
   "outputs": [
    {
     "data": {
      "image/png": "[encoded data removed]",
      "text/plain": [
       "<Figure size 640x480 with 1 Axes>"
      ]
     },
     "metadata": {},
     "output_type": "display_data"
    }
   ],
   "source": [
    "#plotting the results with k=4 cluster  with EMployee ID and UsageRate:\n",
    "\n",
    "for i in u_clust:\n",
    "    plt.scatter(df.loc[clust == i, df.columns[0]], df.loc[clust == i, df.columns[1]], label=i,edgecolors='k')\n",
    "    plt.scatter(kmeans_app.cluster_centers_[:, 0], kmeans_app.cluster_centers_[:, 1], s=250, marker='^', c=\"cyan\")\n",
    "plt.xlabel(df.columns[0])\n",
    "plt.ylabel(df.columns[1])\n",
    "plt.legend()\n",
    "plt.show()"
   ]
  },
  {
   "cell_type": "code",
   "execution_count": 15,
   "id": "bc5f9abc",
   "metadata": {},
   "outputs": [],
   "source": [
    "df1.to_excel('normalized_data.xlsx')"
   ]
  },
  {
   "cell_type": "code",
   "execution_count": 16,
   "id": "045fae39",
   "metadata": {},
   "outputs": [],
   "source": [
    "cluster_summary.to_excel('cluster_summary.xlsx')"
   ]
  }
 ],
 "metadata": {
  "kernelspec": {
   "display_name": "Python 3 (ipykernel)",
   "language": "python",
   "name": "python3"
  },
  "language_info": {
   "codemirror_mode": {
    "name": "ipython",
    "version": 3
   },
   "file_extension": ".py",
   "mimetype": "text/x-python",
   "name": "python",
   "nbconvert_exporter": "python",
   "pygments_lexer": "ipython3",
   "version": "3.9.13"
  }
 },
 "nbformat": 4,
 "nbformat_minor": 5
}
